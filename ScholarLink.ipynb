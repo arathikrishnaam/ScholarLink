{
  "nbformat": 4,
  "nbformat_minor": 0,
  "metadata": {
    "colab": {
      "provenance": []
    },
    "kernelspec": {
      "name": "python3",
      "display_name": "Python 3"
    },
    "language_info": {
      "name": "python"
    }
  },
  "cells": [
    {
      "cell_type": "code",
      "execution_count": null,
      "metadata": {
        "id": "cX7I8RaVceuJ"
      },
      "outputs": [],
      "source": [
        "import numpy as np\n",
        "import pandas as pd\n",
        "import difflib\n",
        "from sklearn.feature_extraction.text import TfidfVectorizer\n",
        "from sklearn.metrics.pairwise import cosine_similarity"
      ]
    },
    {
      "cell_type": "markdown",
      "source": [
        "data collection and pre-processing"
      ],
      "metadata": {
        "id": "Y8AQB0Q3hXCN"
      }
    },
    {
      "cell_type": "code",
      "source": [
        "#loading the data from the csv file to apandas dataframe\n",
        "scholar_data= pd.read_csv('/content/scholar.csv')"
      ],
      "metadata": {
        "id": "6ZH_E8Krc3e3"
      },
      "execution_count": null,
      "outputs": []
    },
    {
      "cell_type": "code",
      "source": [
        "#printing first five row of data file\n",
        "scholar_data.head()"
      ],
      "metadata": {
        "colab": {
          "base_uri": "https://localhost:8080/",
          "height": 501
        },
        "id": "SENVV75-iZiR",
        "outputId": "12774e2b-3e1e-445b-bb69-d71e4f91eaa2"
      },
      "execution_count": null,
      "outputs": [
        {
          "output_type": "execute_result",
          "data": {
            "text/plain": [
              "   index                                               Name  \\\n",
              "0    1.0  INSPIRE Scholarship 2022-23 ? Scholarship for ...   \n",
              "1    2.0  Abdul Kalam Technology Innovation National Fel...   \n",
              "2    3.0  Abdul Kalam Technology Innovation National Fel...   \n",
              "3    4.0  Abdul Kalam Technology Innovation National Fel...   \n",
              "4    5.0  Abdul Kalam Technology Innovation National Fel...   \n",
              "\n",
              "  Education Qualification  Gender Community Religion Exservice-men Disability  \\\n",
              "0           Undergraduate    Male   General    Hindu           Yes        Yes   \n",
              "1            Postgraduate  Female  Minority    Hindu           Yes         No   \n",
              "2            Postgraduate  Female  Minority    Hindu           Yes         No   \n",
              "3            Postgraduate    Male   General   Muslim           Yes         No   \n",
              "4            Postgraduate    Male   General   Muslim           Yes         No   \n",
              "\n",
              "  Sports Annual-Percentage      Income India  Outcome  \n",
              "0     No            90-100   Upto 1.5L    In      1.0  \n",
              "1    Yes             80-90    3L to 6L    In      1.0  \n",
              "2     No             80-90    3L to 6L    In      1.0  \n",
              "3    Yes             60-70  1.5L to 3L    In      1.0  \n",
              "4     No             60-70  1.5L to 3L    In      1.0  "
            ],
            "text/html": [
              "\n",
              "  <div id=\"df-d5025a3c-ae4a-4745-9219-8d4bfa53ef70\" class=\"colab-df-container\">\n",
              "    <div>\n",
              "<style scoped>\n",
              "    .dataframe tbody tr th:only-of-type {\n",
              "        vertical-align: middle;\n",
              "    }\n",
              "\n",
              "    .dataframe tbody tr th {\n",
              "        vertical-align: top;\n",
              "    }\n",
              "\n",
              "    .dataframe thead th {\n",
              "        text-align: right;\n",
              "    }\n",
              "</style>\n",
              "<table border=\"1\" class=\"dataframe\">\n",
              "  <thead>\n",
              "    <tr style=\"text-align: right;\">\n",
              "      <th></th>\n",
              "      <th>index</th>\n",
              "      <th>Name</th>\n",
              "      <th>Education Qualification</th>\n",
              "      <th>Gender</th>\n",
              "      <th>Community</th>\n",
              "      <th>Religion</th>\n",
              "      <th>Exservice-men</th>\n",
              "      <th>Disability</th>\n",
              "      <th>Sports</th>\n",
              "      <th>Annual-Percentage</th>\n",
              "      <th>Income</th>\n",
              "      <th>India</th>\n",
              "      <th>Outcome</th>\n",
              "    </tr>\n",
              "  </thead>\n",
              "  <tbody>\n",
              "    <tr>\n",
              "      <th>0</th>\n",
              "      <td>1.0</td>\n",
              "      <td>INSPIRE Scholarship 2022-23 ? Scholarship for ...</td>\n",
              "      <td>Undergraduate</td>\n",
              "      <td>Male</td>\n",
              "      <td>General</td>\n",
              "      <td>Hindu</td>\n",
              "      <td>Yes</td>\n",
              "      <td>Yes</td>\n",
              "      <td>No</td>\n",
              "      <td>90-100</td>\n",
              "      <td>Upto 1.5L</td>\n",
              "      <td>In</td>\n",
              "      <td>1.0</td>\n",
              "    </tr>\n",
              "    <tr>\n",
              "      <th>1</th>\n",
              "      <td>2.0</td>\n",
              "      <td>Abdul Kalam Technology Innovation National Fel...</td>\n",
              "      <td>Postgraduate</td>\n",
              "      <td>Female</td>\n",
              "      <td>Minority</td>\n",
              "      <td>Hindu</td>\n",
              "      <td>Yes</td>\n",
              "      <td>No</td>\n",
              "      <td>Yes</td>\n",
              "      <td>80-90</td>\n",
              "      <td>3L to 6L</td>\n",
              "      <td>In</td>\n",
              "      <td>1.0</td>\n",
              "    </tr>\n",
              "    <tr>\n",
              "      <th>2</th>\n",
              "      <td>3.0</td>\n",
              "      <td>Abdul Kalam Technology Innovation National Fel...</td>\n",
              "      <td>Postgraduate</td>\n",
              "      <td>Female</td>\n",
              "      <td>Minority</td>\n",
              "      <td>Hindu</td>\n",
              "      <td>Yes</td>\n",
              "      <td>No</td>\n",
              "      <td>No</td>\n",
              "      <td>80-90</td>\n",
              "      <td>3L to 6L</td>\n",
              "      <td>In</td>\n",
              "      <td>1.0</td>\n",
              "    </tr>\n",
              "    <tr>\n",
              "      <th>3</th>\n",
              "      <td>4.0</td>\n",
              "      <td>Abdul Kalam Technology Innovation National Fel...</td>\n",
              "      <td>Postgraduate</td>\n",
              "      <td>Male</td>\n",
              "      <td>General</td>\n",
              "      <td>Muslim</td>\n",
              "      <td>Yes</td>\n",
              "      <td>No</td>\n",
              "      <td>Yes</td>\n",
              "      <td>60-70</td>\n",
              "      <td>1.5L to 3L</td>\n",
              "      <td>In</td>\n",
              "      <td>1.0</td>\n",
              "    </tr>\n",
              "    <tr>\n",
              "      <th>4</th>\n",
              "      <td>5.0</td>\n",
              "      <td>Abdul Kalam Technology Innovation National Fel...</td>\n",
              "      <td>Postgraduate</td>\n",
              "      <td>Male</td>\n",
              "      <td>General</td>\n",
              "      <td>Muslim</td>\n",
              "      <td>Yes</td>\n",
              "      <td>No</td>\n",
              "      <td>No</td>\n",
              "      <td>60-70</td>\n",
              "      <td>1.5L to 3L</td>\n",
              "      <td>In</td>\n",
              "      <td>1.0</td>\n",
              "    </tr>\n",
              "  </tbody>\n",
              "</table>\n",
              "</div>\n",
              "    <div class=\"colab-df-buttons\">\n",
              "\n",
              "  <div class=\"colab-df-container\">\n",
              "    <button class=\"colab-df-convert\" onclick=\"convertToInteractive('df-d5025a3c-ae4a-4745-9219-8d4bfa53ef70')\"\n",
              "            title=\"Convert this dataframe to an interactive table.\"\n",
              "            style=\"display:none;\">\n",
              "\n",
              "  <svg xmlns=\"http://www.w3.org/2000/svg\" height=\"24px\" viewBox=\"0 -960 960 960\">\n",
              "    <path d=\"M120-120v-720h720v720H120Zm60-500h600v-160H180v160Zm220 220h160v-160H400v160Zm0 220h160v-160H400v160ZM180-400h160v-160H180v160Zm440 0h160v-160H620v160ZM180-180h160v-160H180v160Zm440 0h160v-160H620v160Z\"/>\n",
              "  </svg>\n",
              "    </button>\n",
              "\n",
              "  <style>\n",
              "    .colab-df-container {\n",
              "      display:flex;\n",
              "      gap: 12px;\n",
              "    }\n",
              "\n",
              "    .colab-df-convert {\n",
              "      background-color: #E8F0FE;\n",
              "      border: none;\n",
              "      border-radius: 50%;\n",
              "      cursor: pointer;\n",
              "      display: none;\n",
              "      fill: #1967D2;\n",
              "      height: 32px;\n",
              "      padding: 0 0 0 0;\n",
              "      width: 32px;\n",
              "    }\n",
              "\n",
              "    .colab-df-convert:hover {\n",
              "      background-color: #E2EBFA;\n",
              "      box-shadow: 0px 1px 2px rgba(60, 64, 67, 0.3), 0px 1px 3px 1px rgba(60, 64, 67, 0.15);\n",
              "      fill: #174EA6;\n",
              "    }\n",
              "\n",
              "    .colab-df-buttons div {\n",
              "      margin-bottom: 4px;\n",
              "    }\n",
              "\n",
              "    [theme=dark] .colab-df-convert {\n",
              "      background-color: #3B4455;\n",
              "      fill: #D2E3FC;\n",
              "    }\n",
              "\n",
              "    [theme=dark] .colab-df-convert:hover {\n",
              "      background-color: #434B5C;\n",
              "      box-shadow: 0px 1px 3px 1px rgba(0, 0, 0, 0.15);\n",
              "      filter: drop-shadow(0px 1px 2px rgba(0, 0, 0, 0.3));\n",
              "      fill: #FFFFFF;\n",
              "    }\n",
              "  </style>\n",
              "\n",
              "    <script>\n",
              "      const buttonEl =\n",
              "        document.querySelector('#df-d5025a3c-ae4a-4745-9219-8d4bfa53ef70 button.colab-df-convert');\n",
              "      buttonEl.style.display =\n",
              "        google.colab.kernel.accessAllowed ? 'block' : 'none';\n",
              "\n",
              "      async function convertToInteractive(key) {\n",
              "        const element = document.querySelector('#df-d5025a3c-ae4a-4745-9219-8d4bfa53ef70');\n",
              "        const dataTable =\n",
              "          await google.colab.kernel.invokeFunction('convertToInteractive',\n",
              "                                                    [key], {});\n",
              "        if (!dataTable) return;\n",
              "\n",
              "        const docLinkHtml = 'Like what you see? Visit the ' +\n",
              "          '<a target=\"_blank\" href=https://colab.research.google.com/notebooks/data_table.ipynb>data table notebook</a>'\n",
              "          + ' to learn more about interactive tables.';\n",
              "        element.innerHTML = '';\n",
              "        dataTable['output_type'] = 'display_data';\n",
              "        await google.colab.output.renderOutput(dataTable, element);\n",
              "        const docLink = document.createElement('div');\n",
              "        docLink.innerHTML = docLinkHtml;\n",
              "        element.appendChild(docLink);\n",
              "      }\n",
              "    </script>\n",
              "  </div>\n",
              "\n",
              "\n",
              "<div id=\"df-700a95db-14f7-47d4-86e8-f71b451f2834\">\n",
              "  <button class=\"colab-df-quickchart\" onclick=\"quickchart('df-700a95db-14f7-47d4-86e8-f71b451f2834')\"\n",
              "            title=\"Suggest charts\"\n",
              "            style=\"display:none;\">\n",
              "\n",
              "<svg xmlns=\"http://www.w3.org/2000/svg\" height=\"24px\"viewBox=\"0 0 24 24\"\n",
              "     width=\"24px\">\n",
              "    <g>\n",
              "        <path d=\"M19 3H5c-1.1 0-2 .9-2 2v14c0 1.1.9 2 2 2h14c1.1 0 2-.9 2-2V5c0-1.1-.9-2-2-2zM9 17H7v-7h2v7zm4 0h-2V7h2v10zm4 0h-2v-4h2v4z\"/>\n",
              "    </g>\n",
              "</svg>\n",
              "  </button>\n",
              "\n",
              "<style>\n",
              "  .colab-df-quickchart {\n",
              "      --bg-color: #E8F0FE;\n",
              "      --fill-color: #1967D2;\n",
              "      --hover-bg-color: #E2EBFA;\n",
              "      --hover-fill-color: #174EA6;\n",
              "      --disabled-fill-color: #AAA;\n",
              "      --disabled-bg-color: #DDD;\n",
              "  }\n",
              "\n",
              "  [theme=dark] .colab-df-quickchart {\n",
              "      --bg-color: #3B4455;\n",
              "      --fill-color: #D2E3FC;\n",
              "      --hover-bg-color: #434B5C;\n",
              "      --hover-fill-color: #FFFFFF;\n",
              "      --disabled-bg-color: #3B4455;\n",
              "      --disabled-fill-color: #666;\n",
              "  }\n",
              "\n",
              "  .colab-df-quickchart {\n",
              "    background-color: var(--bg-color);\n",
              "    border: none;\n",
              "    border-radius: 50%;\n",
              "    cursor: pointer;\n",
              "    display: none;\n",
              "    fill: var(--fill-color);\n",
              "    height: 32px;\n",
              "    padding: 0;\n",
              "    width: 32px;\n",
              "  }\n",
              "\n",
              "  .colab-df-quickchart:hover {\n",
              "    background-color: var(--hover-bg-color);\n",
              "    box-shadow: 0 1px 2px rgba(60, 64, 67, 0.3), 0 1px 3px 1px rgba(60, 64, 67, 0.15);\n",
              "    fill: var(--button-hover-fill-color);\n",
              "  }\n",
              "\n",
              "  .colab-df-quickchart-complete:disabled,\n",
              "  .colab-df-quickchart-complete:disabled:hover {\n",
              "    background-color: var(--disabled-bg-color);\n",
              "    fill: var(--disabled-fill-color);\n",
              "    box-shadow: none;\n",
              "  }\n",
              "\n",
              "  .colab-df-spinner {\n",
              "    border: 2px solid var(--fill-color);\n",
              "    border-color: transparent;\n",
              "    border-bottom-color: var(--fill-color);\n",
              "    animation:\n",
              "      spin 1s steps(1) infinite;\n",
              "  }\n",
              "\n",
              "  @keyframes spin {\n",
              "    0% {\n",
              "      border-color: transparent;\n",
              "      border-bottom-color: var(--fill-color);\n",
              "      border-left-color: var(--fill-color);\n",
              "    }\n",
              "    20% {\n",
              "      border-color: transparent;\n",
              "      border-left-color: var(--fill-color);\n",
              "      border-top-color: var(--fill-color);\n",
              "    }\n",
              "    30% {\n",
              "      border-color: transparent;\n",
              "      border-left-color: var(--fill-color);\n",
              "      border-top-color: var(--fill-color);\n",
              "      border-right-color: var(--fill-color);\n",
              "    }\n",
              "    40% {\n",
              "      border-color: transparent;\n",
              "      border-right-color: var(--fill-color);\n",
              "      border-top-color: var(--fill-color);\n",
              "    }\n",
              "    60% {\n",
              "      border-color: transparent;\n",
              "      border-right-color: var(--fill-color);\n",
              "    }\n",
              "    80% {\n",
              "      border-color: transparent;\n",
              "      border-right-color: var(--fill-color);\n",
              "      border-bottom-color: var(--fill-color);\n",
              "    }\n",
              "    90% {\n",
              "      border-color: transparent;\n",
              "      border-bottom-color: var(--fill-color);\n",
              "    }\n",
              "  }\n",
              "</style>\n",
              "\n",
              "  <script>\n",
              "    async function quickchart(key) {\n",
              "      const quickchartButtonEl =\n",
              "        document.querySelector('#' + key + ' button');\n",
              "      quickchartButtonEl.disabled = true;  // To prevent multiple clicks.\n",
              "      quickchartButtonEl.classList.add('colab-df-spinner');\n",
              "      try {\n",
              "        const charts = await google.colab.kernel.invokeFunction(\n",
              "            'suggestCharts', [key], {});\n",
              "      } catch (error) {\n",
              "        console.error('Error during call to suggestCharts:', error);\n",
              "      }\n",
              "      quickchartButtonEl.classList.remove('colab-df-spinner');\n",
              "      quickchartButtonEl.classList.add('colab-df-quickchart-complete');\n",
              "    }\n",
              "    (() => {\n",
              "      let quickchartButtonEl =\n",
              "        document.querySelector('#df-700a95db-14f7-47d4-86e8-f71b451f2834 button');\n",
              "      quickchartButtonEl.style.display =\n",
              "        google.colab.kernel.accessAllowed ? 'block' : 'none';\n",
              "    })();\n",
              "  </script>\n",
              "</div>\n",
              "\n",
              "    </div>\n",
              "  </div>\n"
            ],
            "application/vnd.google.colaboratory.intrinsic+json": {
              "type": "dataframe",
              "variable_name": "scholar_data",
              "summary": "{\n  \"name\": \"scholar_data\",\n  \"rows\": 137,\n  \"fields\": [\n    {\n      \"column\": \"index\",\n      \"properties\": {\n        \"dtype\": \"number\",\n        \"std\": 39.386028731762984,\n        \"min\": 1.0,\n        \"max\": 135.0,\n        \"num_unique_values\": 134,\n        \"samples\": [\n          129.0,\n          67.0,\n          106.0\n        ],\n        \"semantic_type\": \"\",\n        \"description\": \"\"\n      }\n    },\n    {\n      \"column\": \"Name\",\n      \"properties\": {\n        \"dtype\": \"category\",\n        \"num_unique_values\": 10,\n        \"samples\": [\n          \"Indira Gandhi Scholarship for Single Girl Child UGC Scholarship for PG Programmes\",\n          \"Abdul Kalam Technology Innovation National Fellowship\",\n          \"ONGC Sports Scholarship Scheme 2022-23\"\n        ],\n        \"semantic_type\": \"\",\n        \"description\": \"\"\n      }\n    },\n    {\n      \"column\": \"Education Qualification\",\n      \"properties\": {\n        \"dtype\": \"category\",\n        \"num_unique_values\": 3,\n        \"samples\": [\n          \"Undergraduate\",\n          \"Postgraduate\",\n          \"Doctrate\"\n        ],\n        \"semantic_type\": \"\",\n        \"description\": \"\"\n      }\n    },\n    {\n      \"column\": \"Gender\",\n      \"properties\": {\n        \"dtype\": \"category\",\n        \"num_unique_values\": 2,\n        \"samples\": [\n          \"Female\",\n          \"Male\"\n        ],\n        \"semantic_type\": \"\",\n        \"description\": \"\"\n      }\n    },\n    {\n      \"column\": \"Community\",\n      \"properties\": {\n        \"dtype\": \"category\",\n        \"num_unique_values\": 4,\n        \"samples\": [\n          \"Minority\",\n          \"OBC\"\n        ],\n        \"semantic_type\": \"\",\n        \"description\": \"\"\n      }\n    },\n    {\n      \"column\": \"Religion\",\n      \"properties\": {\n        \"dtype\": \"category\",\n        \"num_unique_values\": 4,\n        \"samples\": [\n          \"Muslim\",\n          \"Chirstian\"\n        ],\n        \"semantic_type\": \"\",\n        \"description\": \"\"\n      }\n    },\n    {\n      \"column\": \"Exservice-men\",\n      \"properties\": {\n        \"dtype\": \"category\",\n        \"num_unique_values\": 2,\n        \"samples\": [\n          \"No\",\n          \"Yes\"\n        ],\n        \"semantic_type\": \"\",\n        \"description\": \"\"\n      }\n    },\n    {\n      \"column\": \"Disability\",\n      \"properties\": {\n        \"dtype\": \"category\",\n        \"num_unique_values\": 2,\n        \"samples\": [\n          \"No\",\n          \"Yes\"\n        ],\n        \"semantic_type\": \"\",\n        \"description\": \"\"\n      }\n    },\n    {\n      \"column\": \"Sports\",\n      \"properties\": {\n        \"dtype\": \"category\",\n        \"num_unique_values\": 2,\n        \"samples\": [\n          \"Yes\",\n          \"No\"\n        ],\n        \"semantic_type\": \"\",\n        \"description\": \"\"\n      }\n    },\n    {\n      \"column\": \"Annual-Percentage\",\n      \"properties\": {\n        \"dtype\": \"category\",\n        \"num_unique_values\": 4,\n        \"samples\": [\n          \"80-90\",\n          \"70-80\"\n        ],\n        \"semantic_type\": \"\",\n        \"description\": \"\"\n      }\n    },\n    {\n      \"column\": \"Income\",\n      \"properties\": {\n        \"dtype\": \"category\",\n        \"num_unique_values\": 4,\n        \"samples\": [\n          \"3L to 6L\",\n          \"Above 6L\"\n        ],\n        \"semantic_type\": \"\",\n        \"description\": \"\"\n      }\n    },\n    {\n      \"column\": \"India\",\n      \"properties\": {\n        \"dtype\": \"category\",\n        \"num_unique_values\": 2,\n        \"samples\": [\n          \"Out\",\n          \"In\"\n        ],\n        \"semantic_type\": \"\",\n        \"description\": \"\"\n      }\n    },\n    {\n      \"column\": \"Outcome\",\n      \"properties\": {\n        \"dtype\": \"number\",\n        \"std\": 0.296095841534865,\n        \"min\": 0.0,\n        \"max\": 1.0,\n        \"num_unique_values\": 2,\n        \"samples\": [\n          0.0,\n          1.0\n        ],\n        \"semantic_type\": \"\",\n        \"description\": \"\"\n      }\n    }\n  ]\n}"
            }
          },
          "metadata": {},
          "execution_count": 4
        }
      ]
    },
    {
      "cell_type": "code",
      "source": [
        "#number of rows and columns in thedata frame\n",
        "scholar_data.shape"
      ],
      "metadata": {
        "colab": {
          "base_uri": "https://localhost:8080/"
        },
        "id": "USz2YYa_i59G",
        "outputId": "7ffe1b19-6ed9-4356-d8d3-c9a0e6f1abe5"
      },
      "execution_count": null,
      "outputs": [
        {
          "output_type": "execute_result",
          "data": {
            "text/plain": [
              "(137, 13)"
            ]
          },
          "metadata": {},
          "execution_count": 5
        }
      ]
    },
    {
      "cell_type": "code",
      "source": [
        "#selecting the relevant features for recommendation\n",
        "\n",
        "selected_features = ['Name', 'Education Qualification', 'Gender', 'Community', 'Religion', 'Exservice-men', 'Disability', 'Sports', 'Income']\n",
        "\n",
        "print(selected_features)"
      ],
      "metadata": {
        "colab": {
          "base_uri": "https://localhost:8080/"
        },
        "id": "P40CWsg0jO3-",
        "outputId": "718710be-df66-4395-b7fa-8bfff1d044d0"
      },
      "execution_count": null,
      "outputs": [
        {
          "output_type": "stream",
          "name": "stdout",
          "text": [
            "['Name', 'Education Qualification', 'Gender', 'Community', 'Religion', 'Exservice-men', 'Disability', 'Sports', 'Income']\n"
          ]
        }
      ]
    },
    {
      "cell_type": "code",
      "source": [
        "#replacing the null values with null string\n",
        "for feature in selected_features:\n",
        "  scholar_data[feature]=scholar_data[feature].fillna('')"
      ],
      "metadata": {
        "id": "uyC32Esklf4S"
      },
      "execution_count": null,
      "outputs": []
    },
    {
      "cell_type": "code",
      "source": [
        "#combining all the selected features\n",
        "\n",
        "combined_features = scholar_data['Name']+' '+scholar_data['Education Qualification']+' '+scholar_data['Gender']+' '+scholar_data['Community']+' '+scholar_data['Religion']+' '+scholar_data['Exservice-men']+' '+scholar_data['Disability']+' '+scholar_data['Sports']+' '+scholar_data['Income']"
      ],
      "metadata": {
        "id": "YBDM94F5kPwi"
      },
      "execution_count": null,
      "outputs": []
    },
    {
      "cell_type": "code",
      "source": [
        "print(combined_features)"
      ],
      "metadata": {
        "colab": {
          "base_uri": "https://localhost:8080/"
        },
        "id": "OEVivO0ypRrZ",
        "outputId": "22d614c0-f013-4bb9-f109-90e100af01a0"
      },
      "execution_count": null,
      "outputs": [
        {
          "output_type": "stream",
          "name": "stdout",
          "text": [
            "0      INSPIRE Scholarship 2022-23 ? Scholarship for ...\n",
            "1      Abdul Kalam Technology Innovation National Fel...\n",
            "2      Abdul Kalam Technology Innovation National Fel...\n",
            "3      Abdul Kalam Technology Innovation National Fel...\n",
            "4      Abdul Kalam Technology Innovation National Fel...\n",
            "                             ...                        \n",
            "132    National Overseas Scholarship Scheme 2021-22 U...\n",
            "133    National Overseas Scholarship Scheme 2021-22 U...\n",
            "134    National Overseas Scholarship Scheme 2021-22 U...\n",
            "135                                                     \n",
            "136                                                     \n",
            "Length: 137, dtype: object\n"
          ]
        }
      ]
    },
    {
      "cell_type": "code",
      "source": [
        "#converting the text data to feature vectors\n",
        "\n",
        "vectorizer = TfidfVectorizer()"
      ],
      "metadata": {
        "id": "VGT4QPoDpfUn"
      },
      "execution_count": null,
      "outputs": []
    },
    {
      "cell_type": "code",
      "source": [
        "feature_vectors = vectorizer.fit_transform(combined_features)"
      ],
      "metadata": {
        "id": "HEgoqWlhp15v"
      },
      "execution_count": null,
      "outputs": []
    },
    {
      "cell_type": "code",
      "source": [
        "print(feature_vectors)"
      ],
      "metadata": {
        "colab": {
          "base_uri": "https://localhost:8080/"
        },
        "id": "kOcxThFUqQjg",
        "outputId": "8ec1f43c-36e6-4b73-804a-b40332f3736f"
      },
      "execution_count": null,
      "outputs": [
        {
          "output_type": "stream",
          "name": "stdout",
          "text": [
            "  (0, 5)\t0.12892769999032183\n",
            "  (0, 64)\t0.15267444113978274\n",
            "  (0, 42)\t0.08531144706652646\n",
            "  (0, 66)\t0.17438889444983172\n",
            "  (0, 29)\t0.18911456601467888\n",
            "  (0, 25)\t0.15873654091735756\n",
            "  (0, 37)\t0.1456992297548751\n",
            "  (0, 63)\t0.1456992297548751\n",
            "  (0, 56)\t0.41228231074991106\n",
            "  (0, 19)\t0.41228231074991106\n",
            "  (0, 28)\t0.41228231074991106\n",
            "  (0, 22)\t0.1724700821198505\n",
            "  (0, 3)\t0.18245411397829656\n",
            "  (0, 1)\t0.18245411397829656\n",
            "  (0, 55)\t0.20670931864674583\n",
            "  (0, 34)\t0.41228231074991106\n",
            "  (1, 6)\t0.1598434016192149\n",
            "  (1, 61)\t0.18775006865906377\n",
            "  (1, 4)\t0.2093740920564897\n",
            "  (1, 39)\t0.2118506912663236\n",
            "  (1, 21)\t0.1419618898424632\n",
            "  (1, 50)\t0.2118506912663236\n",
            "  (1, 20)\t0.2118506912663236\n",
            "  (1, 41)\t0.18584704644276923\n",
            "  (1, 33)\t0.39028830267569703\n",
            "  :\t:\n",
            "  (133, 46)\t0.39414571820759325\n",
            "  (133, 45)\t0.2747440222520536\n",
            "  (133, 54)\t0.19348992783383523\n",
            "  (133, 39)\t0.2747440222520536\n",
            "  (133, 41)\t0.24102052609854913\n",
            "  (133, 5)\t0.19187300731491122\n",
            "  (133, 64)\t0.2272134239873396\n",
            "  (133, 42)\t0.2539247021124251\n",
            "  (133, 66)\t0.12976467284735402\n",
            "  (133, 37)\t0.21683276269283192\n",
            "  (133, 63)\t0.21683276269283192\n",
            "  (133, 55)\t0.15381465197837496\n",
            "  (134, 2)\t0.3821512878641604\n",
            "  (134, 0)\t0.3821512878641604\n",
            "  (134, 46)\t0.3821512878641604\n",
            "  (134, 45)\t0.26638316005072643\n",
            "  (134, 54)\t0.187601746497976\n",
            "  (134, 39)\t0.26638316005072643\n",
            "  (134, 41)\t0.23368591918014045\n",
            "  (134, 5)\t0.18603403123395948\n",
            "  (134, 64)\t0.22029898736856193\n",
            "  (134, 42)\t0.3692961033830551\n",
            "  (134, 37)\t0.21023422477106904\n",
            "  (134, 63)\t0.21023422477106904\n",
            "  (134, 55)\t0.14913384728171636\n"
          ]
        }
      ]
    },
    {
      "cell_type": "markdown",
      "source": [
        "Cosine Similarity"
      ],
      "metadata": {
        "id": "865zVTN9qhgO"
      }
    },
    {
      "cell_type": "code",
      "source": [
        "# prompt:\n",
        "\n",
        "similarity = cosine_similarity(feature_vectors)\n"
      ],
      "metadata": {
        "id": "hnFBomE0qeY6"
      },
      "execution_count": null,
      "outputs": []
    },
    {
      "cell_type": "code",
      "source": [
        "print(similarity)"
      ],
      "metadata": {
        "id": "ziB9udV3t_jE",
        "colab": {
          "base_uri": "https://localhost:8080/"
        },
        "outputId": "fcc33b89-8240-4156-d8fb-f2f4a3e46167"
      },
      "execution_count": null,
      "outputs": [
        {
          "output_type": "stream",
          "name": "stdout",
          "text": [
            "[[1.         0.08429151 0.07524242 ... 0.18121343 0.         0.        ]\n",
            " [0.08429151 1.         0.9901959  ... 0.13601687 0.         0.        ]\n",
            " [0.07524242 0.9901959  1.         ... 0.17228103 0.         0.        ]\n",
            " ...\n",
            " [0.18121343 0.13601687 0.17228103 ... 1.         0.         0.        ]\n",
            " [0.         0.         0.         ... 0.         0.         0.        ]\n",
            " [0.         0.         0.         ... 0.         0.         0.        ]]\n"
          ]
        }
      ]
    },
    {
      "cell_type": "code",
      "source": [
        "print(similarity.shape)"
      ],
      "metadata": {
        "id": "OB0rj36rvSye",
        "colab": {
          "base_uri": "https://localhost:8080/"
        },
        "outputId": "56a071ee-7b25-46c8-9547-37e290ffd613"
      },
      "execution_count": null,
      "outputs": [
        {
          "output_type": "stream",
          "name": "stdout",
          "text": [
            "(137, 137)\n"
          ]
        }
      ]
    },
    {
      "cell_type": "code",
      "source": [
        "#getting the scholarship name from user\n",
        "\n",
        "scholarship_name=input(\"ENTER THE SCHOLARSHIP NAME\")\n"
      ],
      "metadata": {
        "id": "_gKb1KvhvWPQ",
        "colab": {
          "base_uri": "https://localhost:8080/"
        },
        "outputId": "be20c13f-5150-496e-da14-285cdd0c089e"
      },
      "execution_count": null,
      "outputs": [
        {
          "name": "stdout",
          "output_type": "stream",
          "text": [
            "ENTER THE SCHOLARSHIP NAMEIndira Gandhi Scholarship for Single Girl Child UGC Scholarship for PG Programmes\n"
          ]
        }
      ]
    },
    {
      "cell_type": "code",
      "source": [
        "#creating a list with all the scholarship names given in the datasets\n",
        "list_of_all_scholarship_names= scholar_data['Name'].tolist()\n",
        "print(list_of_all_scholarship_names)"
      ],
      "metadata": {
        "id": "JA9aBjHGwRMP",
        "colab": {
          "base_uri": "https://localhost:8080/"
        },
        "outputId": "5b32873d-806e-49c5-c059-c70e57f3bac2"
      },
      "execution_count": null,
      "outputs": [
        {
          "output_type": "stream",
          "name": "stdout",
          "text": [
            "['INSPIRE Scholarship 2022-23 ? Scholarship for Higher Education (SHE)', 'Abdul Kalam Technology Innovation National Fellowship', 'Abdul Kalam Technology Innovation National Fellowship', 'Abdul Kalam Technology Innovation National Fellowship', 'Abdul Kalam Technology Innovation National Fellowship', 'AAI Sports Scholarship Scheme in India 2022-23', 'AAI Sports Scholarship Scheme in India 2022-23', 'AAI Sports Scholarship Scheme in India 2022-23', 'AAI Sports Scholarship Scheme in India 2022-23', 'AAI Sports Scholarship Scheme in India 2022-23', 'AAI Sports Scholarship Scheme in India 2022-23', 'AAI Sports Scholarship Scheme in India 2022-23', 'AAI Sports Scholarship Scheme in India 2022-23', 'AAI Sports Scholarship Scheme in India 2022-23', 'AAI Sports Scholarship Scheme in India 2022-23', 'AAI Sports Scholarship Scheme in India 2022-23', 'AAI Sports Scholarship Scheme in India 2022-23', 'AAI Sports Scholarship Scheme in India 2022-23', 'AAI Sports Scholarship Scheme in India 2022-23', 'AAI Sports Scholarship Scheme in India 2022-23', 'AAI Sports Scholarship Scheme in India 2022-23', 'AAI Sports Scholarship Scheme in India 2022-23', 'Glow and lovely Career Foundation Scholarship', 'Glow and lovely Career Foundation Scholarship', 'Glow and lovely Career Foundation Scholarship', 'Glow and lovely Career Foundation Scholarship', 'Glow and lovely Career Foundation Scholarship', 'Glow and lovely Career Foundation Scholarship', 'Glow and lovely Career Foundation Scholarship', 'Glow and lovely Career Foundation Scholarship', 'Glow and lovely Career Foundation Scholarship', 'Glow and lovely Career Foundation Scholarship', 'Glow and lovely Career Foundation Scholarship', 'National Fellowship for Persons with Disabilities', 'National Fellowship for Persons with Disabilities', 'National Fellowship for Persons with Disabilities', 'National Fellowship for Persons with Disabilities', 'National Fellowship for Persons with Disabilities', 'National Fellowship for Persons with Disabilities', 'National Fellowship for Persons with Disabilities', 'National Fellowship for Persons with Disabilities', 'National Fellowship for Persons with Disabilities', 'National Fellowship for Persons with Disabilities', 'National Fellowship for Persons with Disabilities', 'National Fellowship for Persons with Disabilities', 'National Fellowship for Persons with Disabilities', 'National Fellowship for Persons with Disabilities', 'National Fellowship for Persons with Disabilities', 'National Fellowship for Persons with Disabilities', 'National Fellowship for Persons with Disabilities', 'National Fellowship for Persons with Disabilities', 'National Fellowship for Persons with Disabilities', 'National Fellowship for Persons with Disabilities', 'National Fellowship for Persons with Disabilities', 'National Fellowship for Persons with Disabilities', 'National Fellowship for Persons with Disabilities', 'National Fellowship for Persons with Disabilities', 'National Fellowship for Persons with Disabilities', 'National Fellowship for Persons with Disabilities', 'National Fellowship for Persons with Disabilities', 'National Fellowship for Persons with Disabilities', 'National Fellowship for Persons with Disabilities', 'National Fellowship for Persons with Disabilities', 'National Fellowship for Persons with Disabilities', 'ONGC Sports Scholarship Scheme 2022-23', 'ONGC Sports Scholarship Scheme 2022-23', 'ONGC Sports Scholarship Scheme 2022-23', 'ONGC Sports Scholarship Scheme 2022-23', 'ONGC Sports Scholarship Scheme 2022-23', 'ONGC Sports Scholarship Scheme 2022-23', 'ONGC Sports Scholarship Scheme 2022-23', 'ONGC Sports Scholarship Scheme 2022-23', 'ONGC Sports Scholarship Scheme 2022-23', 'ONGC Sports Scholarship Scheme 2022-23', 'ONGC Sports Scholarship Scheme 2022-23', 'ONGC Sports Scholarship Scheme 2022-23', 'ONGC Sports Scholarship Scheme 2022-23', 'ONGC Sports Scholarship Scheme 2022-23', 'ONGC Sports Scholarship Scheme 2022-23', 'ONGC Sports Scholarship Scheme 2022-23', 'ONGC Sports Scholarship Scheme 2022-23', 'ONGC Sports Scholarship Scheme 2022-23', 'Pragati Scholarship ? AICTE-Scholarship Scheme to Girl Child', 'Pragati Scholarship ? AICTE-Scholarship Scheme to Girl Child', 'Pragati Scholarship ? AICTE-Scholarship Scheme to Girl Child', 'Pragati Scholarship ? AICTE-Scholarship Scheme to Girl Child', 'Pragati Scholarship ? AICTE-Scholarship Scheme to Girl Child', 'Pragati Scholarship ? AICTE-Scholarship Scheme to Girl Child', 'Pragati Scholarship ? AICTE-Scholarship Scheme to Girl Child', 'Pragati Scholarship ? AICTE-Scholarship Scheme to Girl Child', 'Pragati Scholarship ? AICTE-Scholarship Scheme to Girl Child', 'Pragati Scholarship ? AICTE-Scholarship Scheme to Girl Child', 'Pragati Scholarship ? AICTE-Scholarship Scheme to Girl Child', 'Pragati Scholarship ? AICTE-Scholarship Scheme to Girl Child', 'Pragati Scholarship ? AICTE-Scholarship Scheme to Girl Child', 'Pragati Scholarship ? AICTE-Scholarship Scheme to Girl Child', 'Pragati Scholarship ? AICTE-Scholarship Scheme to Girl Child', 'Pragati Scholarship ? AICTE-Scholarship Scheme to Girl Child', 'Pragati Scholarship ? AICTE-Scholarship Scheme to Girl Child', 'Pragati Scholarship ? AICTE-Scholarship Scheme to Girl Child', 'Pragati Scholarship ? AICTE-Scholarship Scheme to Girl Child', 'Pragati Scholarship ? AICTE-Scholarship Scheme to Girl Child', 'Pragati Scholarship ? AICTE-Scholarship Scheme to Girl Child', 'Pragati Scholarship ? AICTE-Scholarship Scheme to Girl Child', 'Pragati Scholarship ? AICTE-Scholarship Scheme to Girl Child', 'Pragati Scholarship ? AICTE-Scholarship Scheme to Girl Child', 'Dr. Ambedkar post matric Scholarship', 'Dr. Ambedkar post matric Scholarship', 'Dr. Ambedkar post matric Scholarship', 'Dr. Ambedkar post matric Scholarship', 'Dr. Ambedkar post matric Scholarship', 'Dr. Ambedkar post matric Scholarship', 'Dr. Ambedkar post matric Scholarship', 'Dr. Ambedkar post matric Scholarship', 'Indira Gandhi Scholarship for Single Girl Child UGC Scholarship for PG Programmes', 'Indira Gandhi Scholarship for Single Girl Child UGC Scholarship for PG Programmes', 'Indira Gandhi Scholarship for Single Girl Child UGC Scholarship for PG Programmes', 'Indira Gandhi Scholarship for Single Girl Child UGC Scholarship for PG Programmes', 'Indira Gandhi Scholarship for Single Girl Child UGC Scholarship for PG Programmes', 'Indira Gandhi Scholarship for Single Girl Child UGC Scholarship for PG Programmes', 'Indira Gandhi Scholarship for Single Girl Child UGC Scholarship for PG Programmes', 'Indira Gandhi Scholarship for Single Girl Child UGC Scholarship for PG Programmes', 'Indira Gandhi Scholarship for Single Girl Child UGC Scholarship for PG Programmes', 'National Overseas Scholarship Scheme 2021-22', 'National Overseas Scholarship Scheme 2021-22', 'National Overseas Scholarship Scheme 2021-22', 'National Overseas Scholarship Scheme 2021-22', 'National Overseas Scholarship Scheme 2021-22', 'National Overseas Scholarship Scheme 2021-22', 'National Overseas Scholarship Scheme 2021-22', 'National Overseas Scholarship Scheme 2021-22', 'National Overseas Scholarship Scheme 2021-22', 'National Overseas Scholarship Scheme 2021-22', 'National Overseas Scholarship Scheme 2021-22', 'National Overseas Scholarship Scheme 2021-22', '', '']\n"
          ]
        }
      ]
    },
    {
      "cell_type": "code",
      "source": [
        "print(type(list_of_all_scholarship_names))"
      ],
      "metadata": {
        "colab": {
          "base_uri": "https://localhost:8080/"
        },
        "id": "ai9lq18euIrB",
        "outputId": "20cfbf84-db71-4898-ff6e-314264951093"
      },
      "execution_count": null,
      "outputs": [
        {
          "output_type": "stream",
          "name": "stdout",
          "text": [
            "<class 'list'>\n"
          ]
        }
      ]
    },
    {
      "cell_type": "markdown",
      "source": [],
      "metadata": {
        "id": "pceeqa_irJWm"
      }
    },
    {
      "cell_type": "code",
      "source": [
        "find_close_match = difflib.get_close_matches(scholarship_name, list_of_all_scholarship_names)\n",
        "print(find_close_match)"
      ],
      "metadata": {
        "colab": {
          "base_uri": "https://localhost:8080/"
        },
        "id": "ZEBv_GE7VWdy",
        "outputId": "41d8a190-8e61-442b-aefc-9b5866fb7772"
      },
      "execution_count": null,
      "outputs": [
        {
          "output_type": "stream",
          "name": "stdout",
          "text": [
            "['Indira Gandhi Scholarship for Single Girl Child UGC Scholarship for PG Programmes', 'Indira Gandhi Scholarship for Single Girl Child UGC Scholarship for PG Programmes', 'Indira Gandhi Scholarship for Single Girl Child UGC Scholarship for PG Programmes']\n"
          ]
        }
      ]
    },
    {
      "cell_type": "code",
      "source": [
        "print(len(find_close_match))"
      ],
      "metadata": {
        "colab": {
          "base_uri": "https://localhost:8080/"
        },
        "id": "0Aex2-dT4SoN",
        "outputId": "20db1373-49d4-4ab3-d08b-f38ab61d5c6e"
      },
      "execution_count": null,
      "outputs": [
        {
          "output_type": "stream",
          "name": "stdout",
          "text": [
            "3\n"
          ]
        }
      ]
    },
    {
      "cell_type": "code",
      "source": [
        "close_match = find_close_match[0]\n",
        "print(close_match)"
      ],
      "metadata": {
        "id": "w9Z-LCxqzrFb",
        "colab": {
          "base_uri": "https://localhost:8080/"
        },
        "outputId": "72c6a019-59fb-4dbb-a911-78a3f9a0afd9"
      },
      "execution_count": null,
      "outputs": [
        {
          "output_type": "stream",
          "name": "stdout",
          "text": [
            "Indira Gandhi Scholarship for Single Girl Child UGC Scholarship for PG Programmes\n"
          ]
        }
      ]
    },
    {
      "cell_type": "code",
      "source": [
        "index_of_the_scholarship = scholar_data[scholar_data.Name == close_match]['index'].values[0]\n",
        "print(index_of_the_scholarship)"
      ],
      "metadata": {
        "colab": {
          "base_uri": "https://localhost:8080/"
        },
        "id": "vtbhrHsd4Q1m",
        "outputId": "6b578642-df04-4a7f-b0ef-d519bb0186ad"
      },
      "execution_count": null,
      "outputs": [
        {
          "output_type": "stream",
          "name": "stdout",
          "text": [
            "115.0\n"
          ]
        }
      ]
    },
    {
      "cell_type": "code",
      "source": [
        "print(type(index_of_the_scholarship))"
      ],
      "metadata": {
        "colab": {
          "base_uri": "https://localhost:8080/"
        },
        "id": "bagcoEEjw3-U",
        "outputId": "6bb8d0eb-f277-4aa4-dcd1-e7cebda0db17"
      },
      "execution_count": null,
      "outputs": [
        {
          "output_type": "stream",
          "name": "stdout",
          "text": [
            "<class 'numpy.float64'>\n"
          ]
        }
      ]
    },
    {
      "cell_type": "code",
      "source": [
        "index_of_the_scholarship = int(index_of_the_scholarship)"
      ],
      "metadata": {
        "id": "-FQSTBQaxAwY"
      },
      "execution_count": null,
      "outputs": []
    },
    {
      "cell_type": "code",
      "source": [
        "#getting list of similar movies\n",
        "similarity_score=list(enumerate(similarity[index_of_the_scholarship]))\n",
        "print(similarity_score)\n",
        "\n"
      ],
      "metadata": {
        "colab": {
          "base_uri": "https://localhost:8080/"
        },
        "id": "t6VI8z8lw48U",
        "outputId": "2752db91-b7dd-4e88-d307-b2f1a0383ef1"
      },
      "execution_count": null,
      "outputs": [
        {
          "output_type": "stream",
          "name": "stdout",
          "text": [
            "[(0, 0.1666795422684556), (1, 0.08593408714094976), (2, 0.07657301465317286), (3, 0.04500445635375692), (4, 0.03556121553548182), (5, 0.10045759925299276), (6, 0.11198994545807578), (7, 0.10076731452571043), (8, 0.15418003451231657), (9, 0.1427035667776408), (10, 0.11011686534513232), (11, 0.09847510316766073), (12, 0.1104839889846894), (13, 0.09880407417778578), (14, 0.11764022784323082), (15, 0.12876176351115037), (16, 0.11797593331924348), (17, 0.18076935738564903), (18, 0.17008427377415916), (19, 0.12858573816325297), (20, 0.11781437593481084), (21, 0.17008938459231185), (22, 0.17818696102895315), (23, 0.16377143788635645), (24, 0.22839977988646773), (25, 0.21292724688919748), (26, 0.17795796328790817), (27, 0.16357053043084765), (28, 0.06719952192498924), (29, 0.05550416206030258), (30, 0.06737582318475979), (31, 0.05564328772278661), (32, 0.11762835977006128), (33, 0.17198013955435915), (34, 0.2462848845182523), (35, 0.2336422916253507), (36, 0.1844311842914822), (37, 0.171643172906682), (38, 0.27369967167515674), (39, 0.2608444927042155), (40, 0.3352335124055216), (41, 0.32255160050092024), (42, 0.2731515168132151), (43, 0.260320768462833), (44, 0.27256180803471874), (45, 0.25975735116835186), (46, 0.27369967167515674), (47, 0.2608444927042155), (48, 0.3352335124055216), (49, 0.32255160050092024), (50, 0.2731515168132151), (51, 0.260320768462833), (52, 0.22497858068236531), (53, 0.21191327574067037), (54, 0.22594821962072847), (55, 0.21282898058540822), (56, 0.28880326342531104), (57, 0.2758670584672852), (58, 0.22548105649521216), (59, 0.2123877985812691), (60, 0.22497858068236531), (61, 0.21191327574067037), (62, 0.22594821962072847), (63, 0.21282898058540822), (64, 0.19131614477553288), (65, 0.17876592648811396), (66, 0.12993884763246957), (67, 0.11724760430233816), (68, 0.16046759577231928), (69, 0.1478805342057254), (70, 0.16110031073967893), (71, 0.1484650066568778), (72, 0.34374269810164676), (73, 0.2851406741345939), (74, 0.28288616914178666), (75, 0.18949630029666334), (76, 0.18367560244206574), (77, 0.19021153728588658), (78, 0.184422400284265), (79, 0.24943980363794027), (80, 0.2458577837121173), (81, 0.18986708554387938), (82, 0.2749655213583094), (83, 0.2385145076803661), (84, 0.2201074143002589), (85, 0.21840401263244025), (86, 0.20248103079681223), (87, 0.21902748574535558), (88, 0.2397836683438358), (89, 0.2286320147977735), (90, 0.23939706944114492), (91, 0.22826270582194275), (92, 0.24014245604235485), (93, 0.22897475937182932), (94, 0.2938157996717308), (95, 0.28276124786075363), (96, 0.2397836683438358), (97, 0.2286320147977735), (98, 0.2664604487512663), (99, 0.3613374932521588), (100, 0.3171155345031585), (101, 0.3056434878835687), (102, 0.2590618189352035), (103, 0.24745466513132197), (104, 0.25994325021181486), (105, 0.2482983325973191), (106, 0.17349194203161886), (107, 0.16722512490358615), (108, 0.22443044325161374), (109, 0.2195474079932423), (110, 0.1732625343855667), (111, 0.1669918018762195), (112, 0.1730152118935102), (113, 0.16674031548420387), (114, 0.953837282503697), (115, 1.0000000000000004), (116, 0.9920350094139484), (117, 0.9610425121671449), (118, 0.9530391473125269), (119, 0.8657473073878077), (120, 0.857751510394024), (121, 0.8672348865158422), (122, 0.859226877035905), (123, 0.24129233396329508), (124, 0.22950947810582747), (125, 0.18368518573622103), (126, 0.17178516916302128), (127, 0.1111753535852371), (128, 0.09599228944561353), (129, 0.1115745314285875), (130, 0.0963162619106571), (131, 0.1699135013653545), (132, 0.15301378419350853), (133, 0.11138231833527268), (134, 0.09616028795520754), (135, 0.0), (136, 0.0)]\n"
          ]
        }
      ]
    },
    {
      "cell_type": "code",
      "source": [
        "len(similarity_score)"
      ],
      "metadata": {
        "colab": {
          "base_uri": "https://localhost:8080/"
        },
        "id": "BTNlrEcc0S3c",
        "outputId": "e1b4091f-24c6-4245-98e4-4ee1657baf86"
      },
      "execution_count": null,
      "outputs": [
        {
          "output_type": "execute_result",
          "data": {
            "text/plain": [
              "137"
            ]
          },
          "metadata": {},
          "execution_count": 67
        }
      ]
    },
    {
      "cell_type": "code",
      "source": [
        "# sorting the movies based on their similarity score\n",
        "\n",
        "sorted_similar_scholarship = sorted(similarity_score, key=lambda x:x[1], reverse=True)\n",
        "print('SCHOLARSHIPS suggested for you: \\n')"
      ],
      "metadata": {
        "colab": {
          "base_uri": "https://localhost:8080/"
        },
        "id": "bZjePM6u1AQh",
        "outputId": "ee0f05d8-6821-4aca-fd4f-a1f971d0429e"
      },
      "execution_count": null,
      "outputs": [
        {
          "output_type": "stream",
          "name": "stdout",
          "text": [
            "SCHOLARSHIPS suggested for you: \n",
            "\n"
          ]
        }
      ]
    },
    {
      "cell_type": "code",
      "source": [
        "\n",
        "# print the scholarship based on their similarity score\n",
        "i=1\n",
        "for scholarship in sorted_similar_scholarship:\n",
        "  index = scholarship[0]\n",
        "  title_from_index = scholar_data[scholar_data.index == index]['Name'].values[0]\n",
        "  if (i<30):\n",
        "    print(i, '.',title_from_index)\n",
        "    i+=1\n"
      ],
      "metadata": {
        "id": "8naoW5kr0yVB",
        "colab": {
          "base_uri": "https://localhost:8080/"
        },
        "outputId": "d4b228d2-b262-431d-eb18-2603f3df9d99"
      },
      "execution_count": null,
      "outputs": [
        {
          "output_type": "stream",
          "name": "stdout",
          "text": [
            "1 . Indira Gandhi Scholarship for Single Girl Child UGC Scholarship for PG Programmes\n",
            "2 . Indira Gandhi Scholarship for Single Girl Child UGC Scholarship for PG Programmes\n",
            "3 . Indira Gandhi Scholarship for Single Girl Child UGC Scholarship for PG Programmes\n",
            "4 . Indira Gandhi Scholarship for Single Girl Child UGC Scholarship for PG Programmes\n",
            "5 . Indira Gandhi Scholarship for Single Girl Child UGC Scholarship for PG Programmes\n",
            "6 . Indira Gandhi Scholarship for Single Girl Child UGC Scholarship for PG Programmes\n",
            "7 . Indira Gandhi Scholarship for Single Girl Child UGC Scholarship for PG Programmes\n",
            "8 . Indira Gandhi Scholarship for Single Girl Child UGC Scholarship for PG Programmes\n",
            "9 . Indira Gandhi Scholarship for Single Girl Child UGC Scholarship for PG Programmes\n",
            "10 . Pragati Scholarship ? AICTE-Scholarship Scheme to Girl Child\n",
            "11 . ONGC Sports Scholarship Scheme 2022-23\n",
            "12 . National Fellowship for Persons with Disabilities\n",
            "13 . National Fellowship for Persons with Disabilities\n",
            "14 . National Fellowship for Persons with Disabilities\n",
            "15 . National Fellowship for Persons with Disabilities\n",
            "16 . Pragati Scholarship ? AICTE-Scholarship Scheme to Girl Child\n",
            "17 . Pragati Scholarship ? AICTE-Scholarship Scheme to Girl Child\n",
            "18 . Pragati Scholarship ? AICTE-Scholarship Scheme to Girl Child\n",
            "19 . National Fellowship for Persons with Disabilities\n",
            "20 . ONGC Sports Scholarship Scheme 2022-23\n",
            "21 . ONGC Sports Scholarship Scheme 2022-23\n",
            "22 . Pragati Scholarship ? AICTE-Scholarship Scheme to Girl Child\n",
            "23 . National Fellowship for Persons with Disabilities\n",
            "24 . Pragati Scholarship ? AICTE-Scholarship Scheme to Girl Child\n",
            "25 . National Fellowship for Persons with Disabilities\n",
            "26 . National Fellowship for Persons with Disabilities\n",
            "27 . National Fellowship for Persons with Disabilities\n",
            "28 . National Fellowship for Persons with Disabilities\n",
            "29 . National Fellowship for Persons with Disabilities\n"
          ]
        }
      ]
    }
  ]
}